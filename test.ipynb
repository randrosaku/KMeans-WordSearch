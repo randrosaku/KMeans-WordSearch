{
 "cells": [
  {
   "cell_type": "code",
   "execution_count": 39,
   "metadata": {},
   "outputs": [],
   "source": [
    "tbl = str.maketrans({\n",
    "    \"a\":\"0\", \"e\":\"0\", \"i\":\"0\", \"o\":\"0\", \"u\":\"0\", \n",
    "    \"b\":\"1\", \"f\":\"1\", \"p\":\"1\", \"v\":\"1\", \"c\":\"2\", \"g\":\"2\", \"j\":\"2\", \"k\":\"2\", \"q\":\"2\", \"s\":\"2\", \"x\":\"2\", \"z\":\"2\", \"d\":\"3\", \"t\":\"3\", \"l\":\"4\", \"m\":\"5\", \"n\":\"5\", \"r\":\"6\"})"
   ]
  },
  {
   "cell_type": "code",
   "execution_count": 40,
   "metadata": {},
   "outputs": [],
   "source": [
    "def soundex(word, tbl=tbl):\n",
    "    word = ''.join([char for char in word if char.isalpha()]).lower()\n",
    "    first_letter = word[0].upper()\n",
    "\n",
    "    translation = word.translate(tbl)\n",
    "\n",
    "    result_seq = []\n",
    "    for i in range(1, len(translation)):\n",
    "        if i == 1 and translation[i] == first_letter.lower().translate(tbl):\n",
    "            continue\n",
    "        elif translation[i] in \"yhw\":\n",
    "            if i == len(word)-1:\n",
    "                continue\n",
    "            if result_seq and translation[i+1] == result_seq[-1]:\n",
    "                result_seq.pop()\n",
    "        else:\n",
    "            if not result_seq or translation[i] != result_seq[-1]:\n",
    "                result_seq.append(translation[i])\n",
    "\n",
    "    result = ''.join(result_seq).replace(\"0\", \"\")\n",
    "\n",
    "    return first_letter + (result + '000')[:3]"
   ]
  },
  {
   "cell_type": "code",
   "execution_count": 41,
   "metadata": {},
   "outputs": [],
   "source": [
    "names = [\"Robert\", \"Rupert\", \"Rubin\", \"Ashcraft\", \"Ashcroft\", \"Tymczak\", \"Pfister\", \"Honeyman\"]\n",
    "results = [\"R163\", \"R163\", \"R150\", \"A261\", \"A261\", \"T522\", \"P236\", \"H555\"]"
   ]
  },
  {
   "cell_type": "code",
   "execution_count": 42,
   "metadata": {},
   "outputs": [],
   "source": [
    "for name, result in zip(names, results):\n",
    "    assert soundex(name) == result, f\"{soundex(name)} != {result}\""
   ]
  }
 ],
 "metadata": {
  "kernelspec": {
   "display_name": "oxy",
   "language": "python",
   "name": "python3"
  },
  "language_info": {
   "codemirror_mode": {
    "name": "ipython",
    "version": 3
   },
   "file_extension": ".py",
   "mimetype": "text/x-python",
   "name": "python",
   "nbconvert_exporter": "python",
   "pygments_lexer": "ipython3",
   "version": "3.10.14"
  }
 },
 "nbformat": 4,
 "nbformat_minor": 2
}
